{
 "cells": [
  {
   "cell_type": "markdown",
   "id": "740ab7b3-3ecf-4cf7-b9f9-375c5bd80b9b",
   "metadata": {},
   "source": [
    "# Performing Linear Regression\n",
    "### in order to build a Predictor of the release year\n",
    "\n",
    "In this notebook, we will be using the scikit-learn library to perform a logistic regression on the data"
   ]
  },
  {
   "cell_type": "code",
   "execution_count": 1,
   "id": "eb19cb09-9318-43b2-9d01-84078d8a4d03",
   "metadata": {},
   "outputs": [],
   "source": [
    "import numpy as np\n",
    "import pandas as pd\n",
    "import matplotlib.pyplot as plt\n",
    "%matplotlib inline\n",
    "from sklearn.linear_model import LinearRegression\n",
    "from sklearn import preprocessing\n",
    "from tueplots import bundles\n",
    "plt.rcParams.update(bundles.neurips2021(usetex=False))"
   ]
  },
  {
   "cell_type": "code",
   "execution_count": 2,
   "id": "b8ab1a32-ee03-45db-9930-7742af6909fe",
   "metadata": {},
   "outputs": [],
   "source": [
    "### import the datasets\n",
    "train = pd.read_csv('../data/train_set.csv')\n",
    "test = pd.read_csv('../data/test_set.csv')"
   ]
  },
  {
   "cell_type": "markdown",
   "id": "5a64adf8",
   "metadata": {},
   "source": [
    "This cell sorts the data and does some preprocessing, in order for the regression to work"
   ]
  },
  {
   "cell_type": "code",
   "execution_count": 3,
   "id": "7ad908d7",
   "metadata": {},
   "outputs": [],
   "source": [
    "polynomial_degree = 3\n",
    "predictors = ['explicit', 'danceability', 'energy', 'loudness', 'speechiness', 'acousticness', 'instrumentalness', 'liveness', 'valence', 'tempo', 'duration_ms', 'time_signature']\n",
    "\n",
    "X_train = train[predictors]\n",
    "X_test = test[predictors]\n",
    "\n",
    "scaler = preprocessing.StandardScaler().fit(pd.concat([train, test])[predictors])\n",
    "\n",
    "X_train = scaler.transform(X_train)\n",
    "X_test = scaler.transform(X_test)\n",
    "\n",
    "y_train = train['year']\n",
    "y_test = test['year']"
   ]
  },
  {
   "cell_type": "code",
   "execution_count": 4,
   "id": "f5919279",
   "metadata": {},
   "outputs": [],
   "source": [
    "if polynomial_degree != -1:\n",
    "    poly = preprocessing.PolynomialFeatures(degree = polynomial_degree, interaction_only=False, include_bias=False)\n",
    "    X_train = poly.fit_transform(X_train)\n",
    "    X_test = poly.transform(X_test)"
   ]
  },
  {
   "cell_type": "code",
   "execution_count": 5,
   "id": "daef3ce4",
   "metadata": {},
   "outputs": [
    {
     "data": {
      "text/plain": [
       "(454,)"
      ]
     },
     "execution_count": 5,
     "metadata": {},
     "output_type": "execute_result"
    }
   ],
   "source": [
    "reg = LinearRegression().fit(X_train, y_train)\n",
    "reg.coef_.shape"
   ]
  },
  {
   "cell_type": "markdown",
   "id": "baebf62b",
   "metadata": {},
   "source": [
    "Fitting the sklearn Logistic Regression Model "
   ]
  },
  {
   "cell_type": "code",
   "execution_count": 6,
   "id": "c7166aad",
   "metadata": {},
   "outputs": [],
   "source": [
    "if polynomial_degree == -1:\n",
    "    fig, ax = plt.subplots()\n",
    "    ax.bar(predictors, reg.coef_)\n",
    "    plt.setp(ax.get_xticklabels(), rotation=30, horizontalalignment='right')\n",
    "    ax.hlines(0,-.2, 11.2, colors='grey', linestyle='dotted')\n",
    "    plt.show()"
   ]
  },
  {
   "cell_type": "code",
   "execution_count": 9,
   "id": "ae5f1b54",
   "metadata": {},
   "outputs": [
    {
     "name": "stdout",
     "output_type": "stream",
     "text": [
      "L1 Error of random: 10.121316774636012\n",
      "L1 Error of predictor: 5.964536530912798\n",
      "Accuracy of random: 0.03144376056577976\n",
      "Accuracy of predictor: 0.1273191712591384\n"
     ]
    }
   ],
   "source": [
    "predicted_values = reg.predict(X_test)\n",
    "random_values = np.random.randint(y_test.min(), y_test.max(), size=(10,) + y_test.shape)\n",
    "\n",
    "print(f'L1 Error of random: {np.array([np.abs(random - y_test).mean() for random in random_values]).mean()}')\n",
    "print(f'L1 Error of predictor: {np.abs(predicted_values - y_test).mean()}')\n",
    "print(f'Accuracy of random: {np.array([np.sum(random == y_test)/len(y_test) for random in random_values]).mean()}')\n",
    "print(f'Accuracy of predictor: {reg.score(X_test, y_test)}')"
   ]
  }
 ],
 "metadata": {
  "kernelspec": {
   "display_name": "Python 3.9.7 64-bit ('default': conda)",
   "language": "python",
   "name": "python397jvsc74a57bd0a04955b0c86f105c1ebbc27bd5aeee8ef05e5da3296349ca9f8ca047adf74c3a"
  },
  "language_info": {
   "codemirror_mode": {
    "name": "ipython",
    "version": 3
   },
   "file_extension": ".py",
   "mimetype": "text/x-python",
   "name": "python",
   "nbconvert_exporter": "python",
   "pygments_lexer": "ipython3",
   "version": "3.9.7"
  }
 },
 "nbformat": 4,
 "nbformat_minor": 5
}
