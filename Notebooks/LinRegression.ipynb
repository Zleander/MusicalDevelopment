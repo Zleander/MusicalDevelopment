{
 "cells": [
  {
   "cell_type": "markdown",
   "id": "740ab7b3-3ecf-4cf7-b9f9-375c5bd80b9b",
   "metadata": {},
   "source": [
    "# Performing Linear Regression\n",
    "### in order to build a Predictor of the release year\n",
    "\n",
    "In this notebook, we will be using the scikit-learn library to perform a logistic regression on the data"
   ]
  },
  {
   "cell_type": "code",
   "execution_count": 1,
   "id": "eb19cb09-9318-43b2-9d01-84078d8a4d03",
   "metadata": {},
   "outputs": [],
   "source": [
    "import numpy as np\n",
    "import pandas as pd\n",
    "import matplotlib.pyplot as plt\n",
    "%matplotlib inline\n",
    "from sklearn.linear_model import LinearRegression\n",
    "from sklearn import preprocessing\n",
    "from tueplots import bundles\n",
    "plt.rcParams.update(bundles.neurips2021(usetex=False))"
   ]
  },
  {
   "cell_type": "code",
   "execution_count": 2,
   "id": "b8ab1a32-ee03-45db-9930-7742af6909fe",
   "metadata": {},
   "outputs": [],
   "source": [
    "### import the datasets\n",
    "train = pd.read_csv('../data/train_set.csv')\n",
    "test = pd.read_csv('../data/test_set.csv')"
   ]
  },
  {
   "cell_type": "code",
   "execution_count": 3,
   "id": "886e398e",
   "metadata": {},
   "outputs": [],
   "source": [
    "polynomial_degree = 4\n",
    "\n",
    "# helper func to put the data into bucket of timespans\n",
    "timespan=1\n",
    "min_year=1990\n",
    "\n",
    "def calc_labels(years):\n",
    "    return np.array([int((year-min_year)/timespan) for year in years])\n",
    "\n",
    "def calc_years_from_label(label):\n",
    "    start_year = label * timespan + min_year\n",
    "    end_year = start_year + timespan - 1\n",
    "    return start_year, end_year"
   ]
  },
  {
   "cell_type": "markdown",
   "id": "5a64adf8",
   "metadata": {},
   "source": [
    "This cell sorts the data and does some preprocessing, in order for the regression to work"
   ]
  },
  {
   "cell_type": "code",
   "execution_count": 4,
   "id": "7ad908d7",
   "metadata": {},
   "outputs": [],
   "source": [
    "predictors = ['explicit', 'danceability', 'energy', 'loudness', 'speechiness', 'acousticness', 'instrumentalness', 'liveness', 'valence', 'tempo', 'duration_ms', 'time_signature']\n",
    "\n",
    "X_train = train[predictors]\n",
    "X_test = test[predictors]\n",
    "\n",
    "scaler = preprocessing.StandardScaler().fit(pd.concat([train, test])[predictors])\n",
    "\n",
    "X_train = scaler.transform(X_train)\n",
    "X_test = scaler.transform(X_test)\n",
    "\n",
    "y_train = train['year']\n",
    "y_test = test['year']"
   ]
  },
  {
   "cell_type": "code",
   "execution_count": 5,
   "id": "f5919279",
   "metadata": {},
   "outputs": [],
   "source": [
    "if polynomial_degree != -1:\n",
    "    poly = preprocessing.PolynomialFeatures(degree = polynomial_degree, interaction_only=False, include_bias=False)\n",
    "    X_train = poly.fit_transform(X_train)\n",
    "    X_test = poly.transform(X_test)"
   ]
  },
  {
   "cell_type": "code",
   "execution_count": null,
   "id": "daef3ce4",
   "metadata": {},
   "outputs": [],
   "source": [
    "reg = LinearRegression().fit(X_train, y_train)"
   ]
  },
  {
   "cell_type": "code",
   "execution_count": null,
   "id": "3d2c7b97",
   "metadata": {},
   "outputs": [],
   "source": [
    "reg.coef_.shape"
   ]
  },
  {
   "cell_type": "markdown",
   "id": "baebf62b",
   "metadata": {},
   "source": [
    "Fitting the sklearn Logistic Regression Model "
   ]
  },
  {
   "cell_type": "code",
   "execution_count": null,
   "id": "c7166aad",
   "metadata": {},
   "outputs": [],
   "source": [
    "if polynomial_degree == -1:\n",
    "    fig, ax = plt.subplots(figsize=(10, 5))\n",
    "    ax.scatter(predictors, reg.coef_[0])\n",
    "    plt.setp(ax.get_xticklabels(), rotation=30, horizontalalignment='right')\n",
    "    #ax.set_ylim([-1,1])\n",
    "    ax.hlines(0,-.2, 11.2, colors='grey', linestyle='dotted')\n",
    "    plt.show()"
   ]
  },
  {
   "cell_type": "code",
   "execution_count": null,
   "id": "ae5f1b54",
   "metadata": {},
   "outputs": [],
   "source": [
    "predicted_values = reg.predict(X_test)\n",
    "random_values = np.random.randint(y_test.min(), y_test.max(), size=(10,) + y_test.shape)\n",
    "\n",
    "print(f'Error of random: {np.array([np.abs(random - y_test).mean() for random in random_values]).mean()}')\n",
    "print(f'Error of predictor: {np.abs(predicted_values - y_test).mean()}')\n",
    "print(f'Accuracy: {reg.score(X_test, y_test)}')"
   ]
  },
  {
   "cell_type": "code",
   "execution_count": null,
   "id": "fd4556f4",
   "metadata": {
    "scrolled": true
   },
   "outputs": [],
   "source": [
    "for i, coef in enumerate(reg.coef_):\n",
    "    sorted_ids = np.flip(np.argsort(np.abs(coef)))\n",
    "    start_year, end_year = calc_years_from_label(i)\n",
    "    print(f'timespan {i}: \\n  years: {start_year}-{end_year} \\n  tracks:{sum(y_test == i)} ')\n",
    "    for index in sorted_ids:    \n",
    "        print(f'     {predictors[index]}: {round(coef[index], 3)}')\n"
   ]
  },
  {
   "cell_type": "code",
   "execution_count": null,
   "id": "4544e529",
   "metadata": {},
   "outputs": [],
   "source": [
    "interesting_features = ['explicit', 'valence', 'loudness', 'danceability',]# 'duration_ms']\n",
    "fig, ax = plt.subplots(figsize=(10, 10))\n",
    "\n",
    "year_series = np.unique(calc_labels(np.unique(train['year'])))\n",
    "\n",
    "for i,feature in enumerate(predictors):\n",
    "    if feature in interesting_features:\n",
    "        ax.plot(year_series, reg.coef_[:,i], label=feature)\n",
    "ax.legend()\n",
    "plt.savefig('../figs/1_year_coefs.pdf',bbox_inches='tight')\n",
    "plt.show()"
   ]
  }
 ],
 "metadata": {
  "kernelspec": {
   "display_name": "Python 3.9.7 64-bit ('default': conda)",
   "language": "python",
   "name": "python397jvsc74a57bd0a04955b0c86f105c1ebbc27bd5aeee8ef05e5da3296349ca9f8ca047adf74c3a"
  },
  "language_info": {
   "codemirror_mode": {
    "name": "ipython",
    "version": 3
   },
   "file_extension": ".py",
   "mimetype": "text/x-python",
   "name": "python",
   "nbconvert_exporter": "python",
   "pygments_lexer": "ipython3",
   "version": "3.9.7"
  }
 },
 "nbformat": 4,
 "nbformat_minor": 5
}
