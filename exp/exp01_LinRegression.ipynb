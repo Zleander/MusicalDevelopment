{
 "cells": [
  {
   "cell_type": "markdown",
   "id": "740ab7b3-3ecf-4cf7-b9f9-375c5bd80b9b",
   "metadata": {},
   "source": [
    "# Performing Linear Regression\n",
    "### in order to build a Predictor of the release year\n",
    "\n",
    "In this notebook, we will be using the scikit-learn library to perform a logistic regression on the data"
   ]
  },
  {
   "cell_type": "code",
   "execution_count": 14,
   "id": "eb19cb09-9318-43b2-9d01-84078d8a4d03",
   "metadata": {},
   "outputs": [],
   "source": [
    "import numpy as np\n",
    "import pandas as pd\n",
    "import matplotlib.pyplot as plt\n",
    "%matplotlib inline\n",
    "from sklearn.linear_model import LinearRegression\n",
    "from sklearn import preprocessing\n",
    "from tueplots import bundles\n",
    "\n",
    "plt_settings = bundles.neurips2021(usetex=False)\n",
    "plt.rcParams.update(plt_settings)\n",
    "\n",
    "fig_width, fig_height = plt_settings['figure.figsize']"
   ]
  },
  {
   "cell_type": "code",
   "execution_count": 2,
   "id": "b8ab1a32-ee03-45db-9930-7742af6909fe",
   "metadata": {},
   "outputs": [],
   "source": [
    "### import the datasets\n",
    "train = pd.read_csv('../dat/train_set.csv')\n",
    "test = pd.read_csv('../dat/test_set.csv')"
   ]
  },
  {
   "cell_type": "markdown",
   "id": "5a64adf8",
   "metadata": {},
   "source": [
    "This cell sorts the data and does some preprocessing, in order for the regression to work"
   ]
  },
  {
   "cell_type": "code",
   "execution_count": 3,
   "id": "7ad908d7",
   "metadata": {},
   "outputs": [],
   "source": [
    "polynomial_degree = -1\n",
    "predictors = ['explicit', 'danceability', 'energy', 'loudness', 'mode', 'speechiness', 'acousticness', 'instrumentalness', 'liveness', 'valence', 'tempo', 'duration_ms']\n",
    "X_train = train[predictors]\n",
    "X_test = test[predictors]\n",
    "\n",
    "scaler = preprocessing.StandardScaler().fit(pd.concat([train, test])[predictors])\n",
    "\n",
    "X_train = scaler.transform(X_train)\n",
    "X_test = scaler.transform(X_test)\n",
    "\n",
    "y_train = train['year']\n",
    "y_test = test['year']"
   ]
  },
  {
   "cell_type": "code",
   "execution_count": 4,
   "id": "f5919279",
   "metadata": {},
   "outputs": [],
   "source": [
    "if polynomial_degree != -1:\n",
    "    poly = preprocessing.PolynomialFeatures(degree = polynomial_degree, interaction_only=False, include_bias=False)\n",
    "    X_train = poly.fit_transform(X_train)\n",
    "    X_test = poly.transform(X_test)\n",
    "    print(X_test.shape)"
   ]
  },
  {
   "cell_type": "code",
   "execution_count": 5,
   "id": "daef3ce4",
   "metadata": {},
   "outputs": [],
   "source": [
    "reg = LinearRegression().fit(X_train, y_train)"
   ]
  },
  {
   "cell_type": "markdown",
   "id": "baebf62b",
   "metadata": {},
   "source": [
    "Fitting the sklearn Logistic Regression Model "
   ]
  },
  {
   "cell_type": "code",
   "execution_count": 6,
   "id": "c7166aad",
   "metadata": {},
   "outputs": [
    {
     "data": {
      "image/png": "[encoded data removed]",
      "text/plain": [
       "<Figure size 264x244.741 with 1 Axes>"
      ]
     },
     "metadata": {
      "needs_background": "light"
     },
     "output_type": "display_data"
    }
   ],
   "source": [
    "if polynomial_degree == -1:\n",
    "    interesting_features = ['explicit', 'danceability','loudness','valence']\n",
    "    fig, ax = plt.subplots(figsize=(fig_width/1.5,fig_height))\n",
    "    for f, c in zip(predictors,reg.coef_):\n",
    "        ax.bar(f, c, color='grey' if f not in interesting_features else None)\n",
    "    plt.setp(ax.get_xticklabels(), rotation=45, horizontalalignment='right')\n",
    "    #ax.hlines(0,-.2, 11.2, colors='grey', linestyle='dotted')\n",
    "    #plt.savefig('../fig/lin_coefs.pdf',bbox_inches='tight')\n",
    "    plt.show()"
   ]
  },
  {
   "cell_type": "code",
   "execution_count": 7,
   "id": "8fdb304d",
   "metadata": {},
   "outputs": [
    {
     "name": "stdout",
     "output_type": "stream",
     "text": [
      "L1 Error of random: 10.121156021893823\n",
      "L1 Error of predictor: 6.113721705307234\n",
      "L2 Error of random: 153.81086566225326\n",
      "L2 Error of predictor: 53.8761335799798\n",
      "Accuracy of random: 0.031354210804506316\n",
      "Accuracy of predictor: 0.04507629202832394\n",
      "Score of predictor: 0.09168676870809289\n"
     ]
    }
   ],
   "source": [
    "predicted_values = reg.predict(X_test)\n",
    "rounded_preds = np.array(list(map(round, predicted_values)))\n",
    "\n",
    "random_values = np.random.randint(y_test.min(), y_test.max(), size=(10,) + y_test.shape)\n",
    "\n",
    "print(f'L1 Error of random: {np.array([np.abs(random - y_test).mean() for random in random_values]).mean()}')\n",
    "print(f'L1 Error of predictor: {np.abs(predicted_values - y_test).mean()}')\n",
    "print(f'L2 Error of random: {np.array([((random - y_test)**2).mean() for random in random_values]).mean()}')\n",
    "print(f'L2 Error of predictor: {((predicted_values - y_test)**2).mean()}')\n",
    "print(f'Accuracy of random: {np.array([np.sum(random == y_test)/len(y_test) for random in random_values]).mean()}')\n",
    "print(f'Accuracy of predictor: {np.sum(rounded_preds == y_test)/len(y_test)}')\n",
    "print(f'Score of predictor: {reg.score(X_test, y_test)}')"
   ]
  },
  {
   "cell_type": "code",
   "execution_count": 8,
   "id": "128db27f",
   "metadata": {},
   "outputs": [],
   "source": [
    "if polynomial_degree == -1:\n",
    "    # save reg.coef_ for plotting\n",
    "    pd.DataFrame(reg.coef_).to_csv('../dat/lin_reg_coef.csv')"
   ]
  },
  {
   "cell_type": "code",
   "execution_count": 15,
   "id": "a3dcc6c3",
   "metadata": {},
   "outputs": [
    {
     "data": {
      "image/png": "[encoded data removed]",
      "text/plain": [
       "<Figure size 396x244.741 with 3 Axes>"
      ]
     },
     "metadata": {
      "needs_background": "light"
     },
     "output_type": "display_data"
    }
   ],
   "source": [
    "names = ['Random', 'Lin. Regression', 'Poly. Lin. Regression', 'Log. Regression', 'Poly. Log. Regression']\n",
    "l1_losses = [10.129583746499913, 6.113696974889281, 5.956544964282252, 7.596235415401686, 7.7255190609943085]\n",
    "l2_losses = [153.8909257698003, 53.87570765992985, 51.64688522673475, 95.0179798447513, 98.38477129864627]\n",
    "accuracy = [0.031334553539836545, 0.04506318718521075, 0.04871070185171433, 0.07885620929308108, 0.07910520131223163]\n",
    "\n",
    "\n",
    "N = len(names)\n",
    "ind = np.arange(N)\n",
    "fig, axs = plt.subplots(1,2,gridspec_kw={'width_ratios': [2, 3]})\n",
    "ax, ax2 = axs\n",
    "ax1 = ax.twinx()\n",
    "                       \n",
    "width = 0.3       \n",
    "\n",
    "# TODO change these colors\n",
    "color0 = 'red'\n",
    "color1 = 'green'\n",
    "\n",
    "# Plotting\n",
    "b0 = ax.bar(ind, l1_losses , width, label='$L_1$-Loss (years)', color=color0)\n",
    "#b0 = ax.bar(ind, l2_losses , width, label='$L_2$-Loss (years)', color=color0)\n",
    "b1 = ax1.bar(ind + width, accuracy, width, label='Accuracy', color=color1)\n",
    "ax.set_xticks(ind + width / 2, names, rotation=45, horizontalalignment='right')\n",
    "\n",
    "ax.legend([b0,b1],[b.get_label() for b in [b0, b1]], loc='upper left')\n",
    "\n",
    "ax.tick_params(axis='y', labelcolor=color0)\n",
    "accs = np.array(list(range(0,9,1)))\n",
    "ax1.set_yticks(accs/100, [f'{a}%' for a in accs])\n",
    "ax1.tick_params(axis='y', labelcolor=color1)\n",
    "ax.set_ylim(0,12.5)\n",
    "\n",
    "interesting_features = ['explicit', 'danceability','loudness','valence']\n",
    "for f, c in zip(predictors,reg.coef_):\n",
    "    ax2.bar(f, c, color='grey' if f not in interesting_features else None)\n",
    "plt.setp(ax2.get_xticklabels(), rotation=45, horizontalalignment='right')\n",
    "#plt.savefig('../figs/losses_lincoefs.pdf',bbox_inches='tight')\n",
    "plt.show()"
   ]
  },
  {
   "cell_type": "code",
   "execution_count": null,
   "id": "58501843",
   "metadata": {},
   "outputs": [],
   "source": []
  }
 ],
 "metadata": {
  "kernelspec": {
   "display_name": "Python 3.9.7 64-bit ('default': conda)",
   "language": "python",
   "name": "python397jvsc74a57bd0a04955b0c86f105c1ebbc27bd5aeee8ef05e5da3296349ca9f8ca047adf74c3a"
  },
  "language_info": {
   "codemirror_mode": {
    "name": "ipython",
    "version": 3
   },
   "file_extension": ".py",
   "mimetype": "text/x-python",
   "name": "python",
   "nbconvert_exporter": "python",
   "pygments_lexer": "ipython3",
   "version": "3.9.7"
  }
 },
 "nbformat": 4,
 "nbformat_minor": 5
}
